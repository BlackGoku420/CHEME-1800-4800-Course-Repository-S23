{
 "cells": [
  {
   "cell_type": "markdown",
   "id": "360cb3f1-8db8-4e33-9017-82a737af0912",
   "metadata": {},
   "source": [
    "## CHEME 1800/4800 lab 3b: Working with external code modules"
   ]
  },
  {
   "cell_type": "code",
   "execution_count": null,
   "id": "c2cd7f5e-d826-4d5b-93ce-9d3bead8f08e",
   "metadata": {},
   "outputs": [],
   "source": []
  }
 ],
 "metadata": {
  "kernelspec": {
   "display_name": "Julia 1.8.5",
   "language": "julia",
   "name": "julia-1.8"
  },
  "language_info": {
   "file_extension": ".jl",
   "mimetype": "application/julia",
   "name": "julia",
   "version": "1.8.5"
  }
 },
 "nbformat": 4,
 "nbformat_minor": 5
}
