{
 "cells": [
  {
   "cell_type": "markdown",
   "id": "4b0b1090-160a-42c1-ace5-ba3b7c28f3e7",
   "metadata": {},
   "source": [
    "## CHEME 1800/4800 lab 4d: Analysis of textual datasets "
   ]
  },
  {
   "cell_type": "code",
   "execution_count": null,
   "id": "66d116f9-b191-4c8d-a1f6-4bca932c80d0",
   "metadata": {},
   "outputs": [],
   "source": []
  }
 ],
 "metadata": {
  "kernelspec": {
   "display_name": "Julia 1.8.5",
   "language": "julia",
   "name": "julia-1.8"
  },
  "language_info": {
   "file_extension": ".jl",
   "mimetype": "application/julia",
   "name": "julia",
   "version": "1.8.5"
  }
 },
 "nbformat": 4,
 "nbformat_minor": 5
}
