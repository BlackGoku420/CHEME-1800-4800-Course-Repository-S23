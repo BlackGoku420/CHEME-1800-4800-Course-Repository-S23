{
 "cells": [
  {
   "cell_type": "markdown",
   "id": "0d68ac3f-f138-43c6-a4a0-bf9e16b7bee7",
   "metadata": {},
   "source": [
    "## CHEME 1800/4800 Lab 2b: Working with if and elseif statements"
   ]
  },
  {
   "cell_type": "code",
   "execution_count": null,
   "id": "59fa97f2-88d6-49e0-9000-f70bcfdc3e33",
   "metadata": {},
   "outputs": [],
   "source": []
  }
 ],
 "metadata": {
  "kernelspec": {
   "display_name": "Julia 1.8.5",
   "language": "julia",
   "name": "julia-1.8"
  },
  "language_info": {
   "file_extension": ".jl",
   "mimetype": "application/julia",
   "name": "julia",
   "version": "1.8.5"
  }
 },
 "nbformat": 4,
 "nbformat_minor": 5
}
