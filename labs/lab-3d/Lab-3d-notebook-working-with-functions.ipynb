{
 "cells": [
  {
   "cell_type": "markdown",
   "id": "9821d4b6-35ca-449e-806c-93fa31a90b17",
   "metadata": {},
   "source": [
    "## CHEME 1800/4800 lab 3d: Working with your own custom functions"
   ]
  },
  {
   "cell_type": "code",
   "execution_count": null,
   "id": "2ef62541-0782-4fbd-b367-ab848897387b",
   "metadata": {},
   "outputs": [],
   "source": []
  }
 ],
 "metadata": {
  "kernelspec": {
   "display_name": "Julia 1.8.5",
   "language": "julia",
   "name": "julia-1.8"
  },
  "language_info": {
   "file_extension": ".jl",
   "mimetype": "application/julia",
   "name": "julia",
   "version": "1.8.5"
  }
 },
 "nbformat": 4,
 "nbformat_minor": 5
}
