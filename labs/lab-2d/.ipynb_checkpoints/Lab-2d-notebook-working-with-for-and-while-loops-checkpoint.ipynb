{
 "cells": [
  {
   "cell_type": "markdown",
   "id": "298ad96f-7b84-4766-abfb-08784123ef78",
   "metadata": {},
   "source": [
    "## CHEME 1800/4800 Lab 2d: Working with for and while loops"
   ]
  },
  {
   "cell_type": "code",
   "execution_count": null,
   "id": "17e5a363-83dd-46d7-8e0e-274133a9cf81",
   "metadata": {},
   "outputs": [],
   "source": []
  }
 ],
 "metadata": {
  "kernelspec": {
   "display_name": "Julia 1.8.5",
   "language": "julia",
   "name": "julia-1.8"
  },
  "language_info": {
   "file_extension": ".jl",
   "mimetype": "application/julia",
   "name": "julia",
   "version": "1.8.5"
  }
 },
 "nbformat": 4,
 "nbformat_minor": 5
}
